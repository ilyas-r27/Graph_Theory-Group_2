{
  "nbformat": 4,
  "nbformat_minor": 0,
  "metadata": {
    "colab": {
      "provenance": [],
      "authorship_tag": "ABX9TyNIcTrErEan602djfuBLGZi",
      "include_colab_link": true
    },
    "kernelspec": {
      "name": "python3",
      "display_name": "Python 3"
    },
    "language_info": {
      "name": "python"
    }
  },
  "cells": [
    {
      "cell_type": "markdown",
      "metadata": {
        "id": "view-in-github",
        "colab_type": "text"
      },
      "source": [
        "<a href=\"https://colab.research.google.com/github/ilyas-r27/Graph_Theory-Group_2/blob/main/Fleury-directed.ipynb\" target=\"_parent\"><img src=\"https://colab.research.google.com/assets/colab-badge.svg\" alt=\"Open In Colab\"/></a>"
      ]
    },
    {
      "cell_type": "code",
      "execution_count": null,
      "metadata": {
        "id": "Sh9HB_fN2QnT"
      },
      "outputs": [],
      "source": [
        "from collections import deque\n",
        "from typing import List, Tuple, Dict, Any, Optional\n",
        "\n",
        "Node = Any\n",
        "Edge = Tuple[Node, Node]\n",
        "Adj  = Dict[Node, List[Node]]"
      ]
    },
    {
      "cell_type": "code",
      "source": [
        "# Directed graph structure\n",
        "\n",
        "def build_adj_directed(nodes: List[Node], edges: List[Edge]) -> Adj:\n",
        "    adj: Adj = {v: [] for v in nodes}\n",
        "    for u, v in edges:\n",
        "        if u not in adj: adj[u] = []\n",
        "        if v not in adj: adj[v] = []\n",
        "        adj[u].append(v)\n",
        "    return adj\n",
        "\n",
        "def indegrees(adj: Adj) -> Dict[Node, int]:\n",
        "    indeg = {v: 0 for v in adj}\n",
        "    for u in adj:\n",
        "        for v in adj[u]:\n",
        "            indeg[v] += 1\n",
        "    return indeg\n",
        "\n",
        "def undirected_view(adj: Adj) -> Dict[Node, List[Node]]:\n",
        "    und: Dict[Node, List[Node]] = {v: [] for v in adj}\n",
        "    for u in adj:\n",
        "        for v in adj[u]:\n",
        "            und[u].append(v)\n",
        "            und[v].append(u)\n",
        "    return und"
      ],
      "metadata": {
        "id": "Rmy1MAnv26qC"
      },
      "execution_count": null,
      "outputs": []
    },
    {
      "cell_type": "code",
      "source": [
        "# Side operations & directional reachability checks\n",
        "\n",
        "def erase_arc(adj: Adj, u: Node, v: Node) -> None:\n",
        "    adj[u].remove(v)\n",
        "\n",
        "def add_arc(adj: Adj, u: Node, v: Node) -> None:\n",
        "    adj[u].append(v)\n",
        "\n",
        "def exists_path(u: Node, v: Node, adj: Adj) -> bool:\n",
        "    if u == v:\n",
        "        return True\n",
        "    seen = {u}\n",
        "    q = deque([u])\n",
        "    while q:\n",
        "        x = q.popleft()\n",
        "        for y in adj[x]:\n",
        "            if y == v:\n",
        "                return True\n",
        "            if y not in seen:\n",
        "                seen.add(y)\n",
        "                q.append(y)\n",
        "    return False"
      ],
      "metadata": {
        "id": "i3U44Ayr3SfV"
      },
      "execution_count": null,
      "outputs": []
    },
    {
      "cell_type": "code",
      "source": [
        "# Directed Euler rule\n",
        "\n",
        "def has_isolated_directed(adj: Adj) -> bool:\n",
        "    indeg = indegrees(adj)\n",
        "    return any((len(adj[v]) + indeg[v]) == 0 for v in adj)\n",
        "\n",
        "def connected_over_all_nodes_directed(adj: Adj) -> bool:\n",
        "    m = sum(len(adj[v]) for v in adj)\n",
        "    if m == 0:\n",
        "        return False\n",
        "    if has_isolated_directed(adj):\n",
        "        return False\n",
        "    und = undirected_view(adj)\n",
        "    start = sorted(und.keys())[0]\n",
        "    seen = {start}\n",
        "    q = deque([start])\n",
        "    while q:\n",
        "        x = q.popleft()\n",
        "        for y in und[x]:\n",
        "            if y not in seen:\n",
        "                seen.add(y)\n",
        "                q.append(y)\n",
        "    return len(seen) == len(und)\n",
        "\n",
        "def degree_balance(adj: Adj) -> Dict[Node, int]:\n",
        "    indeg = indegrees(adj)\n",
        "    return {v: len(adj[v]) - indeg[v] for v in adj}\n",
        "\n",
        "def pick_start_vertex(adj: Adj) -> Optional[Node]:\n",
        "    bal = degree_balance(adj)\n",
        "    starts = [v for v, b in bal.items() if b == 1]\n",
        "    ends   = [v for v, b in bal.items() if b == -1]\n",
        "    zeros  = [v for v, b in bal.items() if b == 0]\n",
        "    if len(starts) == 1 and len(ends) == 1 and len(starts) + len(ends) + len(zeros) == len(adj):\n",
        "        return starts[0]\n",
        "    if len(starts) == 0 and len(ends) == 0 and len(zeros) == len(adj):\n",
        "        nonempty = [v for v in adj if len(adj[v]) > 0]\n",
        "        return min(nonempty) if nonempty else None\n",
        "    return None\n",
        "\n",
        "def is_cut_arc(adj: Adj, u: Node, v: Node) -> bool:\n",
        "    erase_arc(adj, u, v)\n",
        "    ok = exists_path(u, v, adj)\n",
        "    add_arc(adj, u, v)\n",
        "    return not ok\n",
        "\n",
        "def fleury_euler_path_directed(nodes: List[Node], edges: List[Edge]) -> Optional[List[Node]]:\n",
        "    adj = build_adj_directed(nodes, edges)\n",
        "    if not connected_over_all_nodes_directed(adj):\n",
        "        return None\n",
        "    start = pick_start_vertex(adj)\n",
        "    if start is None:\n",
        "        return None\n",
        "    cur = start\n",
        "    path = [cur]\n",
        "    edges_left = sum(len(adj[v]) for v in adj)\n",
        "    while edges_left > 0:\n",
        "        nbrs = sorted(adj[cur])\n",
        "        if not nbrs:\n",
        "            return None\n",
        "        if len(nbrs) == 1:\n",
        "            nxt = nbrs[0]\n",
        "        else:\n",
        "            nxt = None\n",
        "            for w in nbrs:\n",
        "                if not is_cut_arc(adj, cur, w):\n",
        "                    nxt = w\n",
        "                    break\n",
        "            if nxt is None:\n",
        "                nxt = nbrs[0]\n",
        "        erase_arc(adj, cur, nxt)\n",
        "        edges_left -= 1\n",
        "        cur = nxt\n",
        "        path.append(cur)\n",
        "    return path"
      ],
      "metadata": {
        "id": "92nj4jR03VVg"
      },
      "execution_count": null,
      "outputs": []
    },
    {
      "cell_type": "code",
      "source": [
        "# Checking result\n",
        "\n",
        "def print_euler_result(nodes: List[Node], edges: List[Edge]) -> None:\n",
        "    ans = fleury_euler_path_directed(nodes, edges)\n",
        "    if ans is None:\n",
        "        print(\"euler path not found\")\n",
        "    else:\n",
        "        print(\"Eulerian path:\", \"-\".join(map(str, ans)))"
      ],
      "metadata": {
        "id": "us6k5JOk3zMq"
      },
      "execution_count": null,
      "outputs": []
    },
    {
      "cell_type": "code",
      "source": [
        "print(\"Example A (Eulerian circuit):\")\n",
        "nodesA = [0, 1, 2]\n",
        "edgesA = [(0,1), (1,2), (2,0)]\n",
        "print_euler_result(nodesA, edgesA)"
      ],
      "metadata": {
        "id": "coFydcan31Ra"
      },
      "execution_count": null,
      "outputs": []
    },
    {
      "cell_type": "code",
      "source": [
        "print(\"\\nExample B (Eulerian path, not circuit):\")\n",
        "nodesB = [0, 1, 2, 3]\n",
        "edgesB = [(0,1), (1,2), (2,0), (0,3)]\n",
        "print_euler_result(nodesB, edgesB)"
      ],
      "metadata": {
        "id": "LlS7V-hO34Md"
      },
      "execution_count": null,
      "outputs": []
    },
    {
      "cell_type": "code",
      "source": [
        "print(\"\\nExample C (Not Eulerian: bad degree balance):\")\n",
        "nodesC = [0, 1, 2]\n",
        "edgesC = [(0,1), (0,1), (1,2)]\n",
        "print_euler_result(nodesC, edgesC)"
      ],
      "metadata": {
        "id": "6UlAMfmU3-P1"
      },
      "execution_count": null,
      "outputs": []
    }
  ]
}
