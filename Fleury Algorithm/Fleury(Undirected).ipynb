{
  "nbformat": 4,
  "nbformat_minor": 0,
  "metadata": {
    "colab": {
      "provenance": [],
      "authorship_tag": "ABX9TyMhdEwAhgrANMeDwUMsKRzW",
      "include_colab_link": true
    },
    "kernelspec": {
      "name": "python3",
      "display_name": "Python 3"
    },
    "language_info": {
      "name": "python"
    }
  },
  "cells": [
    {
      "cell_type": "markdown",
      "metadata": {
        "id": "view-in-github",
        "colab_type": "text"
      },
      "source": [
        "<a href=\"https://colab.research.google.com/github/ilyas-r27/Graph_Theory-Group_2/blob/main/Fuery-Algorithm-Undirected.ipynb\" target=\"_parent\"><img src=\"https://colab.research.google.com/assets/colab-badge.svg\" alt=\"Open In Colab\"/></a>"
      ]
    },
    {
      "cell_type": "code",
      "execution_count": null,
      "metadata": {
        "id": "5f22iA7btjHp"
      },
      "outputs": [],
      "source": [
        "from collections import deque\n",
        "from typing import List, Tuple, Dict, Any, Optional"
      ]
    },
    {
      "cell_type": "code",
      "source": [
        "Node = Any\n",
        "Edge = Tuple[Node, Node]\n",
        "Adj  = Dict[Node, List[Node]]"
      ],
      "metadata": {
        "id": "d1a6JKn2ts_A"
      },
      "execution_count": null,
      "outputs": []
    },
    {
      "cell_type": "code",
      "source": [
        "# ---------- helpers for undirected graphs ----------\n",
        "\n",
        "def build_adj(nodes: List[Node], edges: List[Edge]) -> Adj:\n",
        "    \"\"\"Undirected multigraph adjacency list.\"\"\"\n",
        "    adj: Adj = {v: [] for v in nodes}\n",
        "    for u, v in edges:\n",
        "        if u not in adj: adj[u] = []\n",
        "        if v not in adj: adj[v] = []\n",
        "        adj[u].append(v)\n",
        "        adj[v].append(u)\n",
        "    return adj\n",
        "\n",
        "def erase_edge(adj: Adj, u: Node, v: Node) -> None:\n",
        "    adj[u].remove(v)\n",
        "    adj[v].remove(u)\n",
        "\n",
        "def add_edge(adj: Adj, u: Node, v: Node) -> None:\n",
        "    adj[u].append(v)\n",
        "    adj[v].append(u)\n",
        "\n",
        "def reachable_count(start: Node, adj: Adj) -> int:\n",
        "    \"\"\"# of vertices reachable from 'start' with current edges.\"\"\"\n",
        "    seen = {start}\n",
        "    q = deque([start])\n",
        "    while q:\n",
        "        x = q.popleft()\n",
        "        for y in adj[x]:\n",
        "            if y not in seen:\n",
        "                seen.add(y)\n",
        "                q.append(y)\n",
        "    return len(seen)\n",
        "\n",
        "def has_isolated(adj: Adj) -> bool:\n",
        "    return any(len(nbrs) == 0 for nbrs in adj.values())\n",
        "\n",
        "def connected_over_all_nodes(adj: Adj) -> bool:\n",
        "    \"\"\"Single connected component over listed nodes & at least one edge.\"\"\"\n",
        "    m = sum(len(n) for n in adj.values()) // 2\n",
        "    if m == 0:  # no edges → not Eulerian for this assignment\n",
        "        return False\n",
        "    if has_isolated(adj):  # disallow isolated vertices\n",
        "        return False\n",
        "    start = sorted(adj.keys())[0]\n",
        "    return reachable_count(start, adj) == len(adj)\n",
        "\n",
        "def odd_vertices(adj: Adj) -> List[Node]:\n",
        "    return sorted([v for v, nbrs in adj.items() if len(nbrs) % 2 == 1])\n",
        "\n",
        "def is_bridge(adj: Adj, u: Node, v: Node) -> bool:\n",
        "    \"\"\"(u, v) is a bridge if removing it reduces reachability from u.\"\"\"\n",
        "    before = reachable_count(u, adj)\n",
        "    erase_edge(adj, u, v)\n",
        "    after = reachable_count(u, adj) if adj[u] else 0\n",
        "    add_edge(adj, u, v)\n",
        "    return after < before"
      ],
      "metadata": {
        "id": "fXLwqO5TtvJ4"
      },
      "execution_count": null,
      "outputs": []
    },
    {
      "cell_type": "code",
      "source": [
        "# ---------- Fleury (undirected) ----------\n",
        "\n",
        "def fleury_euler_path(nodes: List[Node], edges: List[Edge]) -> Optional[List[Node]]:\n",
        "    \"\"\"Return Eulerian path as list of nodes; None if it doesn't exist.\"\"\"\n",
        "    adj = build_adj(nodes, edges)\n",
        "\n",
        "    # Preconditions: connectivity + parity\n",
        "    if not connected_over_all_nodes(adj):\n",
        "        return None\n",
        "    odd = odd_vertices(adj)\n",
        "    if len(odd) not in (0, 2):\n",
        "        return None\n",
        "\n",
        "    # Starting point\n",
        "    cur = min(odd) if len(odd) == 2 else min([v for v in adj if len(adj[v]) > 0])\n",
        "    path = [cur]\n",
        "    edges_left = sum(len(n) for n in adj.values()) // 2\n",
        "\n",
        "    while edges_left > 0:\n",
        "        nbrs = sorted(adj[cur])\n",
        "        if not nbrs:\n",
        "            return None  # stuck early\n",
        "        # Prefer a non-bridge when there's a choice\n",
        "        nxt = None\n",
        "        if len(nbrs) == 1:\n",
        "            nxt = nbrs[0]\n",
        "        else:\n",
        "            for w in nbrs:\n",
        "                if not is_bridge(adj, cur, w):\n",
        "                    nxt = w\n",
        "                    break\n",
        "            if nxt is None:  # all options are bridges\n",
        "                nxt = nbrs[0]\n",
        "        erase_edge(adj, cur, nxt)\n",
        "        edges_left -= 1\n",
        "        cur = nxt\n",
        "        path.append(cur)\n",
        "\n",
        "    return path\n",
        "\n",
        "def print_euler_result(nodes: List[Node], edges: List[Edge]) -> None:\n",
        "    ans = fleury_euler_path(nodes, edges)\n",
        "    if ans is None:\n",
        "        print(\"euler path not found\")\n",
        "    else:\n",
        "        print(\"Eulerian path:\", \"-\".join(map(str, ans)))"
      ],
      "metadata": {
        "id": "tH5cuo5Ztwag"
      },
      "execution_count": null,
      "outputs": []
    },
    {
      "cell_type": "code",
      "source": [
        "print(\"Example 1\")\n",
        "nodes1 = [0, 1, 2, 3]\n",
        "edges1 = [(0,1), (0,2), (1,2), (2,3)]\n",
        "print_euler_result(nodes1, edges1)  # expected: Eulerian path: 2-0-1-2-3"
      ],
      "metadata": {
        "id": "46TzfsjPuAjl"
      },
      "execution_count": null,
      "outputs": []
    },
    {
      "cell_type": "code",
      "source": [
        "print(\"\\nExample 2\")\n",
        "nodes2 = [0, 1, 2, 3]\n",
        "edges2 = [(0,1), (1,2)]\n",
        "print_euler_result(nodes2, edges2)  # expected: euler path not found"
      ],
      "metadata": {
        "id": "mkAXwgoNuCoc"
      },
      "execution_count": null,
      "outputs": []
    }
  ]
}
