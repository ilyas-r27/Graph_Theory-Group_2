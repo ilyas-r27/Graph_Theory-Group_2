from collections import defaultdict

def euler_directed(nodes, edges):
    # build adjacency with edge ids, and in/out-degree
    out_adj = defaultdict(list)
    indeg = defaultdict(int)
    outdeg = defaultdict(int)
    for i, (u, v) in enumerate(edges):
        out_adj[u].append((v, i))
        outdeg[u] += 1
        indeg[v] += 1

    # active nodes = vertices that appear in at least one edge
    active = {u for u, _ in edges} | {v for _, v in edges}
    if not active:
        return None  # no edges → keep it simple: treat as not found

    # degree conditions:
    #   Euler circuit: indeg == outdeg for all
    #   Euler trail  : exactly one (out-in)=+1 (start) and one (out-in)=-1 (end); others 0
    start = None
    plus1 = minus1 = 0
    for v in active:
        diff = outdeg[v] - indeg[v]
        if diff == 1:
            plus1 += 1; start = v
        elif diff == -1:
            minus1 += 1
        elif diff == 0:
            pass
        else:
            return None
    if (plus1, minus1) not in [(0, 0), (1, 1)]:
        return None

    # choose start: the +1 node if trail, otherwise any node with outdegree>0
    if start is None:
        start = next((v for v in active if outdeg[v] > 0), None)
        if start is None:
            return None

    # weak connectivity check on underlying undirected graph
    undirected = defaultdict(list)
    for u, v in edges:
        undirected[u].append(v)
        undirected[v].append(u)
    seen, stack = set(), [start]
    while stack:
        u = stack.pop()
        if u in seen: 
            continue
        seen.add(u)
        for w in undirected[u]:
            if w not in seen:
                stack.append(w)
    if seen & active != active:
        return None

    # Hierholzer
    used = [0] * len(edges)
    path = []
    stack = [start]
    while stack:
        u = stack[-1]
        # drop already used edges at the tail
        while out_adj[u] and used[out_adj[u][-1][1]]:
            out_adj[u].pop()
        if not out_adj[u]:
            path.append(stack.pop())
        else:
            v, eid = out_adj[u].pop()
            if not used[eid]:
                used[eid] = 1
                stack.append(v)

    # must use all edges
    if sum(used) != len(edges):
        return None
    return path[::-1]
